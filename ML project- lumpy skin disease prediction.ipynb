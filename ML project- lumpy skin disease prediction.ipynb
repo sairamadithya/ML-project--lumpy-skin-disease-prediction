{
 "cells": [
  {
   "cell_type": "code",
   "execution_count": 1,
   "id": "1f37b68c",
   "metadata": {},
   "outputs": [],
   "source": [
    "import pandas as pd\n",
    "import numpy as np\n",
    "import seaborn as sns\n",
    "from scipy import stats"
   ]
  },
  {
   "cell_type": "code",
   "execution_count": 2,
   "id": "e7e6c939",
   "metadata": {},
   "outputs": [
    {
     "data": {
      "text/html": [
       "<div>\n",
       "<style scoped>\n",
       "    .dataframe tbody tr th:only-of-type {\n",
       "        vertical-align: middle;\n",
       "    }\n",
       "\n",
       "    .dataframe tbody tr th {\n",
       "        vertical-align: top;\n",
       "    }\n",
       "\n",
       "    .dataframe thead th {\n",
       "        text-align: right;\n",
       "    }\n",
       "</style>\n",
       "<table border=\"1\" class=\"dataframe\">\n",
       "  <thead>\n",
       "    <tr style=\"text-align: right;\">\n",
       "      <th></th>\n",
       "      <th>x</th>\n",
       "      <th>y</th>\n",
       "      <th>region</th>\n",
       "      <th>country</th>\n",
       "      <th>reportingDate</th>\n",
       "      <th>cld</th>\n",
       "      <th>dtr</th>\n",
       "      <th>frs</th>\n",
       "      <th>pet</th>\n",
       "      <th>pre</th>\n",
       "      <th>tmn</th>\n",
       "      <th>tmp</th>\n",
       "      <th>tmx</th>\n",
       "      <th>vap</th>\n",
       "      <th>wet</th>\n",
       "      <th>elevation</th>\n",
       "      <th>dominant_land_cover</th>\n",
       "      <th>X5_Ct_2010_Da</th>\n",
       "      <th>X5_Bf_2010_Da</th>\n",
       "      <th>lumpy</th>\n",
       "    </tr>\n",
       "  </thead>\n",
       "  <tbody>\n",
       "    <tr>\n",
       "      <th>0</th>\n",
       "      <td>90.380931</td>\n",
       "      <td>22.437184</td>\n",
       "      <td>Asia</td>\n",
       "      <td>Bangladesh</td>\n",
       "      <td>10/9/2020</td>\n",
       "      <td>41.6</td>\n",
       "      <td>12.8</td>\n",
       "      <td>0.00</td>\n",
       "      <td>2.3</td>\n",
       "      <td>1.7</td>\n",
       "      <td>12.7</td>\n",
       "      <td>19.1</td>\n",
       "      <td>25.5</td>\n",
       "      <td>15.7</td>\n",
       "      <td>0.00</td>\n",
       "      <td>147</td>\n",
       "      <td>2</td>\n",
       "      <td>27970.983100</td>\n",
       "      <td>3691.746950</td>\n",
       "      <td>1</td>\n",
       "    </tr>\n",
       "    <tr>\n",
       "      <th>1</th>\n",
       "      <td>87.854975</td>\n",
       "      <td>22.986757</td>\n",
       "      <td>Asia</td>\n",
       "      <td>India</td>\n",
       "      <td>20/12/2019</td>\n",
       "      <td>40.5</td>\n",
       "      <td>13.3</td>\n",
       "      <td>0.00</td>\n",
       "      <td>2.4</td>\n",
       "      <td>0.0</td>\n",
       "      <td>13.2</td>\n",
       "      <td>19.8</td>\n",
       "      <td>26.5</td>\n",
       "      <td>16.3</td>\n",
       "      <td>0.00</td>\n",
       "      <td>145</td>\n",
       "      <td>2</td>\n",
       "      <td>25063.646690</td>\n",
       "      <td>671.326701</td>\n",
       "      <td>1</td>\n",
       "    </tr>\n",
       "    <tr>\n",
       "      <th>2</th>\n",
       "      <td>85.279935</td>\n",
       "      <td>23.610181</td>\n",
       "      <td>Asia</td>\n",
       "      <td>India</td>\n",
       "      <td>20/12/2019</td>\n",
       "      <td>27.3</td>\n",
       "      <td>13.6</td>\n",
       "      <td>0.08</td>\n",
       "      <td>2.3</td>\n",
       "      <td>0.6</td>\n",
       "      <td>9.4</td>\n",
       "      <td>16.2</td>\n",
       "      <td>23.0</td>\n",
       "      <td>13.0</td>\n",
       "      <td>0.98</td>\n",
       "      <td>158</td>\n",
       "      <td>2</td>\n",
       "      <td>6038.477155</td>\n",
       "      <td>1426.839831</td>\n",
       "      <td>1</td>\n",
       "    </tr>\n",
       "    <tr>\n",
       "      <th>3</th>\n",
       "      <td>81.564510</td>\n",
       "      <td>43.882221</td>\n",
       "      <td>Asia</td>\n",
       "      <td>China</td>\n",
       "      <td>25/10/2019</td>\n",
       "      <td>45.3</td>\n",
       "      <td>12.8</td>\n",
       "      <td>31.00</td>\n",
       "      <td>0.4</td>\n",
       "      <td>8.8</td>\n",
       "      <td>-22.5</td>\n",
       "      <td>-16.1</td>\n",
       "      <td>-9.7</td>\n",
       "      <td>0.9</td>\n",
       "      <td>4.64</td>\n",
       "      <td>178</td>\n",
       "      <td>2</td>\n",
       "      <td>760.703340</td>\n",
       "      <td>0.000000</td>\n",
       "      <td>1</td>\n",
       "    </tr>\n",
       "    <tr>\n",
       "      <th>4</th>\n",
       "      <td>81.161057</td>\n",
       "      <td>43.834976</td>\n",
       "      <td>Asia</td>\n",
       "      <td>China</td>\n",
       "      <td>25/10/2019</td>\n",
       "      <td>38.8</td>\n",
       "      <td>13.2</td>\n",
       "      <td>31.00</td>\n",
       "      <td>0.4</td>\n",
       "      <td>10.5</td>\n",
       "      <td>-20.4</td>\n",
       "      <td>-13.8</td>\n",
       "      <td>-7.2</td>\n",
       "      <td>1.2</td>\n",
       "      <td>1.69</td>\n",
       "      <td>185</td>\n",
       "      <td>3</td>\n",
       "      <td>270.367426</td>\n",
       "      <td>0.000000</td>\n",
       "      <td>1</td>\n",
       "    </tr>\n",
       "  </tbody>\n",
       "</table>\n",
       "</div>"
      ],
      "text/plain": [
       "           x          y region     country reportingDate   cld   dtr    frs  \\\n",
       "0  90.380931  22.437184   Asia  Bangladesh     10/9/2020  41.6  12.8   0.00   \n",
       "1  87.854975  22.986757   Asia       India    20/12/2019  40.5  13.3   0.00   \n",
       "2  85.279935  23.610181   Asia       India    20/12/2019  27.3  13.6   0.08   \n",
       "3  81.564510  43.882221   Asia       China    25/10/2019  45.3  12.8  31.00   \n",
       "4  81.161057  43.834976   Asia       China    25/10/2019  38.8  13.2  31.00   \n",
       "\n",
       "   pet   pre   tmn   tmp   tmx   vap   wet  elevation  dominant_land_cover  \\\n",
       "0  2.3   1.7  12.7  19.1  25.5  15.7  0.00        147                    2   \n",
       "1  2.4   0.0  13.2  19.8  26.5  16.3  0.00        145                    2   \n",
       "2  2.3   0.6   9.4  16.2  23.0  13.0  0.98        158                    2   \n",
       "3  0.4   8.8 -22.5 -16.1  -9.7   0.9  4.64        178                    2   \n",
       "4  0.4  10.5 -20.4 -13.8  -7.2   1.2  1.69        185                    3   \n",
       "\n",
       "   X5_Ct_2010_Da  X5_Bf_2010_Da  lumpy  \n",
       "0   27970.983100    3691.746950      1  \n",
       "1   25063.646690     671.326701      1  \n",
       "2    6038.477155    1426.839831      1  \n",
       "3     760.703340       0.000000      1  \n",
       "4     270.367426       0.000000      1  "
      ]
     },
     "execution_count": 2,
     "metadata": {},
     "output_type": "execute_result"
    }
   ],
   "source": [
    "data=pd.read_csv(r\"C:\\Users\\sairam\\Downloads\\Lumpy skin disease data.csv\")\n",
    "data.head()"
   ]
  },
  {
   "cell_type": "code",
   "execution_count": 3,
   "id": "38f20ec6",
   "metadata": {},
   "outputs": [
    {
     "data": {
      "text/html": [
       "<div>\n",
       "<style scoped>\n",
       "    .dataframe tbody tr th:only-of-type {\n",
       "        vertical-align: middle;\n",
       "    }\n",
       "\n",
       "    .dataframe tbody tr th {\n",
       "        vertical-align: top;\n",
       "    }\n",
       "\n",
       "    .dataframe thead th {\n",
       "        text-align: right;\n",
       "    }\n",
       "</style>\n",
       "<table border=\"1\" class=\"dataframe\">\n",
       "  <thead>\n",
       "    <tr style=\"text-align: right;\">\n",
       "      <th></th>\n",
       "      <th>x</th>\n",
       "      <th>y</th>\n",
       "      <th>cld</th>\n",
       "      <th>dtr</th>\n",
       "      <th>frs</th>\n",
       "      <th>pet</th>\n",
       "      <th>pre</th>\n",
       "      <th>tmn</th>\n",
       "      <th>tmp</th>\n",
       "      <th>tmx</th>\n",
       "      <th>vap</th>\n",
       "      <th>wet</th>\n",
       "      <th>elevation</th>\n",
       "      <th>dominant_land_cover</th>\n",
       "      <th>X5_Ct_2010_Da</th>\n",
       "      <th>X5_Bf_2010_Da</th>\n",
       "      <th>lumpy</th>\n",
       "    </tr>\n",
       "  </thead>\n",
       "  <tbody>\n",
       "    <tr>\n",
       "      <th>0</th>\n",
       "      <td>90.380931</td>\n",
       "      <td>22.437184</td>\n",
       "      <td>41.6</td>\n",
       "      <td>12.8</td>\n",
       "      <td>0.00</td>\n",
       "      <td>2.3</td>\n",
       "      <td>1.7</td>\n",
       "      <td>12.7</td>\n",
       "      <td>19.1</td>\n",
       "      <td>25.5</td>\n",
       "      <td>15.7</td>\n",
       "      <td>0.00</td>\n",
       "      <td>147</td>\n",
       "      <td>2</td>\n",
       "      <td>27970.983100</td>\n",
       "      <td>3691.746950</td>\n",
       "      <td>1</td>\n",
       "    </tr>\n",
       "    <tr>\n",
       "      <th>1</th>\n",
       "      <td>87.854975</td>\n",
       "      <td>22.986757</td>\n",
       "      <td>40.5</td>\n",
       "      <td>13.3</td>\n",
       "      <td>0.00</td>\n",
       "      <td>2.4</td>\n",
       "      <td>0.0</td>\n",
       "      <td>13.2</td>\n",
       "      <td>19.8</td>\n",
       "      <td>26.5</td>\n",
       "      <td>16.3</td>\n",
       "      <td>0.00</td>\n",
       "      <td>145</td>\n",
       "      <td>2</td>\n",
       "      <td>25063.646690</td>\n",
       "      <td>671.326701</td>\n",
       "      <td>1</td>\n",
       "    </tr>\n",
       "    <tr>\n",
       "      <th>2</th>\n",
       "      <td>85.279935</td>\n",
       "      <td>23.610181</td>\n",
       "      <td>27.3</td>\n",
       "      <td>13.6</td>\n",
       "      <td>0.08</td>\n",
       "      <td>2.3</td>\n",
       "      <td>0.6</td>\n",
       "      <td>9.4</td>\n",
       "      <td>16.2</td>\n",
       "      <td>23.0</td>\n",
       "      <td>13.0</td>\n",
       "      <td>0.98</td>\n",
       "      <td>158</td>\n",
       "      <td>2</td>\n",
       "      <td>6038.477155</td>\n",
       "      <td>1426.839831</td>\n",
       "      <td>1</td>\n",
       "    </tr>\n",
       "    <tr>\n",
       "      <th>3</th>\n",
       "      <td>81.564510</td>\n",
       "      <td>43.882221</td>\n",
       "      <td>45.3</td>\n",
       "      <td>12.8</td>\n",
       "      <td>31.00</td>\n",
       "      <td>0.4</td>\n",
       "      <td>8.8</td>\n",
       "      <td>-22.5</td>\n",
       "      <td>-16.1</td>\n",
       "      <td>-9.7</td>\n",
       "      <td>0.9</td>\n",
       "      <td>4.64</td>\n",
       "      <td>178</td>\n",
       "      <td>2</td>\n",
       "      <td>760.703340</td>\n",
       "      <td>0.000000</td>\n",
       "      <td>1</td>\n",
       "    </tr>\n",
       "    <tr>\n",
       "      <th>4</th>\n",
       "      <td>81.161057</td>\n",
       "      <td>43.834976</td>\n",
       "      <td>38.8</td>\n",
       "      <td>13.2</td>\n",
       "      <td>31.00</td>\n",
       "      <td>0.4</td>\n",
       "      <td>10.5</td>\n",
       "      <td>-20.4</td>\n",
       "      <td>-13.8</td>\n",
       "      <td>-7.2</td>\n",
       "      <td>1.2</td>\n",
       "      <td>1.69</td>\n",
       "      <td>185</td>\n",
       "      <td>3</td>\n",
       "      <td>270.367426</td>\n",
       "      <td>0.000000</td>\n",
       "      <td>1</td>\n",
       "    </tr>\n",
       "  </tbody>\n",
       "</table>\n",
       "</div>"
      ],
      "text/plain": [
       "           x          y   cld   dtr    frs  pet   pre   tmn   tmp   tmx   vap  \\\n",
       "0  90.380931  22.437184  41.6  12.8   0.00  2.3   1.7  12.7  19.1  25.5  15.7   \n",
       "1  87.854975  22.986757  40.5  13.3   0.00  2.4   0.0  13.2  19.8  26.5  16.3   \n",
       "2  85.279935  23.610181  27.3  13.6   0.08  2.3   0.6   9.4  16.2  23.0  13.0   \n",
       "3  81.564510  43.882221  45.3  12.8  31.00  0.4   8.8 -22.5 -16.1  -9.7   0.9   \n",
       "4  81.161057  43.834976  38.8  13.2  31.00  0.4  10.5 -20.4 -13.8  -7.2   1.2   \n",
       "\n",
       "    wet  elevation  dominant_land_cover  X5_Ct_2010_Da  X5_Bf_2010_Da  lumpy  \n",
       "0  0.00        147                    2   27970.983100    3691.746950      1  \n",
       "1  0.00        145                    2   25063.646690     671.326701      1  \n",
       "2  0.98        158                    2    6038.477155    1426.839831      1  \n",
       "3  4.64        178                    2     760.703340       0.000000      1  \n",
       "4  1.69        185                    3     270.367426       0.000000      1  "
      ]
     },
     "execution_count": 3,
     "metadata": {},
     "output_type": "execute_result"
    }
   ],
   "source": [
    "data=data.drop(['region','country','reportingDate'],axis=1)\n",
    "data.head()"
   ]
  },
  {
   "cell_type": "code",
   "execution_count": 4,
   "id": "788ef0e5",
   "metadata": {},
   "outputs": [
    {
     "name": "stdout",
     "output_type": "stream",
     "text": [
      "<class 'pandas.core.frame.DataFrame'>\n",
      "RangeIndex: 24803 entries, 0 to 24802\n",
      "Data columns (total 17 columns):\n",
      " #   Column               Non-Null Count  Dtype  \n",
      "---  ------               --------------  -----  \n",
      " 0   x                    24803 non-null  float64\n",
      " 1   y                    24803 non-null  float64\n",
      " 2   cld                  24803 non-null  float64\n",
      " 3   dtr                  24803 non-null  float64\n",
      " 4   frs                  24803 non-null  float64\n",
      " 5   pet                  24803 non-null  float64\n",
      " 6   pre                  24803 non-null  float64\n",
      " 7   tmn                  24803 non-null  float64\n",
      " 8   tmp                  24803 non-null  float64\n",
      " 9   tmx                  24803 non-null  float64\n",
      " 10  vap                  24803 non-null  float64\n",
      " 11  wet                  24803 non-null  float64\n",
      " 12  elevation            24803 non-null  int64  \n",
      " 13  dominant_land_cover  24803 non-null  int64  \n",
      " 14  X5_Ct_2010_Da        24803 non-null  float64\n",
      " 15  X5_Bf_2010_Da        24803 non-null  float64\n",
      " 16  lumpy                24803 non-null  int64  \n",
      "dtypes: float64(14), int64(3)\n",
      "memory usage: 3.2 MB\n"
     ]
    }
   ],
   "source": [
    "data.info()"
   ]
  },
  {
   "cell_type": "code",
   "execution_count": 5,
   "id": "f52f41c6",
   "metadata": {},
   "outputs": [
    {
     "data": {
      "text/html": [
       "<div>\n",
       "<style scoped>\n",
       "    .dataframe tbody tr th:only-of-type {\n",
       "        vertical-align: middle;\n",
       "    }\n",
       "\n",
       "    .dataframe tbody tr th {\n",
       "        vertical-align: top;\n",
       "    }\n",
       "\n",
       "    .dataframe thead th {\n",
       "        text-align: right;\n",
       "    }\n",
       "</style>\n",
       "<table border=\"1\" class=\"dataframe\">\n",
       "  <thead>\n",
       "    <tr style=\"text-align: right;\">\n",
       "      <th></th>\n",
       "      <th>x</th>\n",
       "      <th>y</th>\n",
       "      <th>cld</th>\n",
       "      <th>dtr</th>\n",
       "      <th>frs</th>\n",
       "      <th>pet</th>\n",
       "      <th>pre</th>\n",
       "      <th>tmn</th>\n",
       "      <th>tmp</th>\n",
       "      <th>tmx</th>\n",
       "      <th>vap</th>\n",
       "      <th>wet</th>\n",
       "      <th>elevation</th>\n",
       "      <th>dominant_land_cover</th>\n",
       "      <th>X5_Ct_2010_Da</th>\n",
       "      <th>X5_Bf_2010_Da</th>\n",
       "      <th>lumpy</th>\n",
       "    </tr>\n",
       "  </thead>\n",
       "  <tbody>\n",
       "    <tr>\n",
       "      <th>count</th>\n",
       "      <td>24803.000000</td>\n",
       "      <td>24803.000000</td>\n",
       "      <td>24803.000000</td>\n",
       "      <td>24803.000000</td>\n",
       "      <td>24803.000000</td>\n",
       "      <td>24803.000000</td>\n",
       "      <td>24803.000000</td>\n",
       "      <td>24803.000000</td>\n",
       "      <td>24803.000000</td>\n",
       "      <td>24803.000000</td>\n",
       "      <td>24803.000000</td>\n",
       "      <td>24803.000000</td>\n",
       "      <td>24803.000000</td>\n",
       "      <td>24803.000000</td>\n",
       "      <td>24803.000000</td>\n",
       "      <td>24803.000000</td>\n",
       "      <td>24803.000000</td>\n",
       "    </tr>\n",
       "    <tr>\n",
       "      <th>mean</th>\n",
       "      <td>79.221374</td>\n",
       "      <td>46.370056</td>\n",
       "      <td>59.452159</td>\n",
       "      <td>9.107777</td>\n",
       "      <td>23.978048</td>\n",
       "      <td>0.803487</td>\n",
       "      <td>26.271137</td>\n",
       "      <td>-15.794755</td>\n",
       "      <td>-11.227807</td>\n",
       "      <td>-6.681212</td>\n",
       "      <td>3.728230</td>\n",
       "      <td>8.542482</td>\n",
       "      <td>164.769302</td>\n",
       "      <td>4.416119</td>\n",
       "      <td>629.129412</td>\n",
       "      <td>170.306057</td>\n",
       "      <td>0.122526</td>\n",
       "    </tr>\n",
       "    <tr>\n",
       "      <th>std</th>\n",
       "      <td>43.338530</td>\n",
       "      <td>19.220555</td>\n",
       "      <td>19.423029</td>\n",
       "      <td>2.988448</td>\n",
       "      <td>11.518315</td>\n",
       "      <td>1.172915</td>\n",
       "      <td>33.630747</td>\n",
       "      <td>17.587685</td>\n",
       "      <td>17.989715</td>\n",
       "      <td>18.540915</td>\n",
       "      <td>4.952353</td>\n",
       "      <td>6.205199</td>\n",
       "      <td>19.679197</td>\n",
       "      <td>2.406231</td>\n",
       "      <td>2279.198775</td>\n",
       "      <td>1127.977653</td>\n",
       "      <td>0.327898</td>\n",
       "    </tr>\n",
       "    <tr>\n",
       "      <th>min</th>\n",
       "      <td>-179.750000</td>\n",
       "      <td>-28.750000</td>\n",
       "      <td>0.000000</td>\n",
       "      <td>2.000000</td>\n",
       "      <td>0.000000</td>\n",
       "      <td>0.000000</td>\n",
       "      <td>0.000000</td>\n",
       "      <td>-52.100000</td>\n",
       "      <td>-48.100000</td>\n",
       "      <td>-44.200000</td>\n",
       "      <td>0.000000</td>\n",
       "      <td>0.000000</td>\n",
       "      <td>66.000000</td>\n",
       "      <td>0.000000</td>\n",
       "      <td>0.000000</td>\n",
       "      <td>0.000000</td>\n",
       "      <td>0.000000</td>\n",
       "    </tr>\n",
       "    <tr>\n",
       "      <th>25%</th>\n",
       "      <td>45.083150</td>\n",
       "      <td>34.750000</td>\n",
       "      <td>43.800000</td>\n",
       "      <td>6.800000</td>\n",
       "      <td>23.210000</td>\n",
       "      <td>0.000000</td>\n",
       "      <td>5.900000</td>\n",
       "      <td>-30.100000</td>\n",
       "      <td>-25.500000</td>\n",
       "      <td>-20.900000</td>\n",
       "      <td>0.400000</td>\n",
       "      <td>3.000000</td>\n",
       "      <td>152.000000</td>\n",
       "      <td>3.000000</td>\n",
       "      <td>2.513366</td>\n",
       "      <td>0.000000</td>\n",
       "      <td>0.000000</td>\n",
       "    </tr>\n",
       "    <tr>\n",
       "      <th>50%</th>\n",
       "      <td>80.750000</td>\n",
       "      <td>48.250000</td>\n",
       "      <td>62.300000</td>\n",
       "      <td>8.300000</td>\n",
       "      <td>31.000000</td>\n",
       "      <td>0.200000</td>\n",
       "      <td>14.700000</td>\n",
       "      <td>-19.100000</td>\n",
       "      <td>-14.200000</td>\n",
       "      <td>-9.700000</td>\n",
       "      <td>1.500000</td>\n",
       "      <td>8.020000</td>\n",
       "      <td>161.000000</td>\n",
       "      <td>4.000000</td>\n",
       "      <td>43.383823</td>\n",
       "      <td>0.000197</td>\n",
       "      <td>0.000000</td>\n",
       "    </tr>\n",
       "    <tr>\n",
       "      <th>75%</th>\n",
       "      <td>109.750000</td>\n",
       "      <td>61.750000</td>\n",
       "      <td>75.300000</td>\n",
       "      <td>11.100000</td>\n",
       "      <td>31.000000</td>\n",
       "      <td>1.100000</td>\n",
       "      <td>33.400000</td>\n",
       "      <td>-2.200000</td>\n",
       "      <td>1.400000</td>\n",
       "      <td>4.900000</td>\n",
       "      <td>4.800000</td>\n",
       "      <td>12.710000</td>\n",
       "      <td>176.000000</td>\n",
       "      <td>4.000000</td>\n",
       "      <td>386.124908</td>\n",
       "      <td>0.002094</td>\n",
       "      <td>0.000000</td>\n",
       "    </tr>\n",
       "    <tr>\n",
       "      <th>max</th>\n",
       "      <td>179.750000</td>\n",
       "      <td>81.750000</td>\n",
       "      <td>98.700000</td>\n",
       "      <td>20.600000</td>\n",
       "      <td>31.000000</td>\n",
       "      <td>7.500000</td>\n",
       "      <td>341.900000</td>\n",
       "      <td>23.900000</td>\n",
       "      <td>28.500000</td>\n",
       "      <td>36.400000</td>\n",
       "      <td>28.600000</td>\n",
       "      <td>30.920000</td>\n",
       "      <td>249.000000</td>\n",
       "      <td>11.000000</td>\n",
       "      <td>167388.672700</td>\n",
       "      <td>56654.780150</td>\n",
       "      <td>1.000000</td>\n",
       "    </tr>\n",
       "  </tbody>\n",
       "</table>\n",
       "</div>"
      ],
      "text/plain": [
       "                  x             y           cld           dtr           frs  \\\n",
       "count  24803.000000  24803.000000  24803.000000  24803.000000  24803.000000   \n",
       "mean      79.221374     46.370056     59.452159      9.107777     23.978048   \n",
       "std       43.338530     19.220555     19.423029      2.988448     11.518315   \n",
       "min     -179.750000    -28.750000      0.000000      2.000000      0.000000   \n",
       "25%       45.083150     34.750000     43.800000      6.800000     23.210000   \n",
       "50%       80.750000     48.250000     62.300000      8.300000     31.000000   \n",
       "75%      109.750000     61.750000     75.300000     11.100000     31.000000   \n",
       "max      179.750000     81.750000     98.700000     20.600000     31.000000   \n",
       "\n",
       "                pet           pre           tmn           tmp           tmx  \\\n",
       "count  24803.000000  24803.000000  24803.000000  24803.000000  24803.000000   \n",
       "mean       0.803487     26.271137    -15.794755    -11.227807     -6.681212   \n",
       "std        1.172915     33.630747     17.587685     17.989715     18.540915   \n",
       "min        0.000000      0.000000    -52.100000    -48.100000    -44.200000   \n",
       "25%        0.000000      5.900000    -30.100000    -25.500000    -20.900000   \n",
       "50%        0.200000     14.700000    -19.100000    -14.200000     -9.700000   \n",
       "75%        1.100000     33.400000     -2.200000      1.400000      4.900000   \n",
       "max        7.500000    341.900000     23.900000     28.500000     36.400000   \n",
       "\n",
       "                vap           wet     elevation  dominant_land_cover  \\\n",
       "count  24803.000000  24803.000000  24803.000000         24803.000000   \n",
       "mean       3.728230      8.542482    164.769302             4.416119   \n",
       "std        4.952353      6.205199     19.679197             2.406231   \n",
       "min        0.000000      0.000000     66.000000             0.000000   \n",
       "25%        0.400000      3.000000    152.000000             3.000000   \n",
       "50%        1.500000      8.020000    161.000000             4.000000   \n",
       "75%        4.800000     12.710000    176.000000             4.000000   \n",
       "max       28.600000     30.920000    249.000000            11.000000   \n",
       "\n",
       "       X5_Ct_2010_Da  X5_Bf_2010_Da         lumpy  \n",
       "count   24803.000000   24803.000000  24803.000000  \n",
       "mean      629.129412     170.306057      0.122526  \n",
       "std      2279.198775    1127.977653      0.327898  \n",
       "min         0.000000       0.000000      0.000000  \n",
       "25%         2.513366       0.000000      0.000000  \n",
       "50%        43.383823       0.000197      0.000000  \n",
       "75%       386.124908       0.002094      0.000000  \n",
       "max    167388.672700   56654.780150      1.000000  "
      ]
     },
     "execution_count": 5,
     "metadata": {},
     "output_type": "execute_result"
    }
   ],
   "source": [
    "data.describe()"
   ]
  },
  {
   "cell_type": "code",
   "execution_count": 6,
   "id": "ea388e5b",
   "metadata": {},
   "outputs": [
    {
     "data": {
      "text/plain": [
       "x                      0\n",
       "y                      0\n",
       "cld                    0\n",
       "dtr                    0\n",
       "frs                    0\n",
       "pet                    0\n",
       "pre                    0\n",
       "tmn                    0\n",
       "tmp                    0\n",
       "tmx                    0\n",
       "vap                    0\n",
       "wet                    0\n",
       "elevation              0\n",
       "dominant_land_cover    0\n",
       "X5_Ct_2010_Da          0\n",
       "X5_Bf_2010_Da          0\n",
       "lumpy                  0\n",
       "dtype: int64"
      ]
     },
     "execution_count": 6,
     "metadata": {},
     "output_type": "execute_result"
    }
   ],
   "source": [
    "data.isnull().sum()"
   ]
  },
  {
   "cell_type": "code",
   "execution_count": 7,
   "id": "5fc61856",
   "metadata": {},
   "outputs": [
    {
     "data": {
      "text/plain": [
       "x                      0\n",
       "y                      0\n",
       "cld                    0\n",
       "dtr                    0\n",
       "frs                    0\n",
       "pet                    0\n",
       "pre                    0\n",
       "tmn                    0\n",
       "tmp                    0\n",
       "tmx                    0\n",
       "vap                    0\n",
       "wet                    0\n",
       "elevation              0\n",
       "dominant_land_cover    0\n",
       "X5_Ct_2010_Da          0\n",
       "X5_Bf_2010_Da          0\n",
       "lumpy                  0\n",
       "dtype: int64"
      ]
     },
     "execution_count": 7,
     "metadata": {},
     "output_type": "execute_result"
    }
   ],
   "source": [
    "data=data.fillna(data.mean())\n",
    "data.isnull().sum()"
   ]
  },
  {
   "cell_type": "code",
   "execution_count": 8,
   "id": "629e3189",
   "metadata": {},
   "outputs": [
    {
     "name": "stdout",
     "output_type": "stream",
     "text": [
      "<class 'pandas.core.frame.DataFrame'>\n",
      "Int64Index: 23726 entries, 0 to 24802\n",
      "Data columns (total 17 columns):\n",
      " #   Column               Non-Null Count  Dtype  \n",
      "---  ------               --------------  -----  \n",
      " 0   x                    23726 non-null  float64\n",
      " 1   y                    23726 non-null  float64\n",
      " 2   cld                  23726 non-null  float64\n",
      " 3   dtr                  23726 non-null  float64\n",
      " 4   frs                  23726 non-null  float64\n",
      " 5   pet                  23726 non-null  float64\n",
      " 6   pre                  23726 non-null  float64\n",
      " 7   tmn                  23726 non-null  float64\n",
      " 8   tmp                  23726 non-null  float64\n",
      " 9   tmx                  23726 non-null  float64\n",
      " 10  vap                  23726 non-null  float64\n",
      " 11  wet                  23726 non-null  float64\n",
      " 12  elevation            23726 non-null  int64  \n",
      " 13  dominant_land_cover  23726 non-null  int64  \n",
      " 14  X5_Ct_2010_Da        23726 non-null  float64\n",
      " 15  X5_Bf_2010_Da        23726 non-null  float64\n",
      " 16  lumpy                23726 non-null  int64  \n",
      "dtypes: float64(14), int64(3)\n",
      "memory usage: 3.3 MB\n"
     ]
    }
   ],
   "source": [
    "data.duplicated()\n",
    "data=data.drop_duplicates()\n",
    "data.info()"
   ]
  },
  {
   "cell_type": "code",
   "execution_count": 9,
   "id": "f0cf4a77",
   "metadata": {},
   "outputs": [
    {
     "name": "stdout",
     "output_type": "stream",
     "text": [
      "cld [17665]\n"
     ]
    }
   ],
   "source": [
    "z = np.abs(stats.zscore(data['cld']))\n",
    "out=np.where(z>3)[0]\n",
    "print('cld'+ \" \"+str(out))\n",
    "data['cld']=data['cld'].drop(out)"
   ]
  },
  {
   "cell_type": "code",
   "execution_count": 10,
   "id": "484be1ec",
   "metadata": {},
   "outputs": [
    {
     "name": "stdout",
     "output_type": "stream",
     "text": [
      "dtr [17840 17841 17842 17843 17856 17857 17858 17859 17872 17873 17874 17875\n",
      " 17889 19403 19437 19438 19441 19442 19443 19444 19472 19473 19474 19475\n",
      " 19476 19477 19478 19479 19480 19481 19510 19609 19610 19664 19665 19827\n",
      " 20683 20691 20697 22055 22056 22057 22100 22101 22102 22103 22144 22145\n",
      " 22146 22147 22148 22187 22188 22189 22190 22191 22192 22233 22234 22235\n",
      " 22236 22237 22238 22279 22280 22281 22282 22283 22284 22324 22325 22326\n",
      " 22327 22328 22329 22371 22372 22373 22374 22375 22420 22421 22422 22423\n",
      " 22470 22471]\n"
     ]
    }
   ],
   "source": [
    "z = np.abs(stats.zscore(data['dtr']))\n",
    "out=np.where(z>3)[0]\n",
    "print('dtr'+ \" \"+str(out))\n",
    "data['dtr']=data['dtr'].drop(out)"
   ]
  },
  {
   "cell_type": "code",
   "execution_count": 11,
   "id": "6ff761d0",
   "metadata": {},
   "outputs": [
    {
     "name": "stdout",
     "output_type": "stream",
     "text": [
      "frs []\n"
     ]
    }
   ],
   "source": [
    "z = np.abs(stats.zscore(data['frs']))\n",
    "out=np.where(z>3)[0]\n",
    "print('frs'+ \" \"+str(out))\n",
    "data['frs']=data['frs'].drop(out)"
   ]
  },
  {
   "cell_type": "code",
   "execution_count": 12,
   "id": "b8059568",
   "metadata": {},
   "outputs": [
    {
     "name": "stdout",
     "output_type": "stream",
     "text": [
      "tmn []\n"
     ]
    }
   ],
   "source": [
    "z = np.abs(stats.zscore(data['tmn']))\n",
    "out=np.where(z>3)[0]\n",
    "print('tmn'+ \" \"+str(out))\n",
    "data['tmn']=data['tmn'].drop(out)"
   ]
  },
  {
   "cell_type": "code",
   "execution_count": 13,
   "id": "c1f99cc7",
   "metadata": {},
   "outputs": [
    {
     "name": "stdout",
     "output_type": "stream",
     "text": [
      "tmp []\n"
     ]
    }
   ],
   "source": [
    "z = np.abs(stats.zscore(data['tmp']))\n",
    "out=np.where(z>3)[0]\n",
    "print('tmp'+ \" \"+str(out))\n",
    "data['tmp']=data['tmp'].drop(out)"
   ]
  },
  {
   "cell_type": "code",
   "execution_count": 14,
   "id": "e3d1824b",
   "metadata": {},
   "outputs": [
    {
     "name": "stdout",
     "output_type": "stream",
     "text": [
      "tmx []\n"
     ]
    }
   ],
   "source": [
    "z = np.abs(stats.zscore(data['tmx']))\n",
    "out=np.where(z>3)[0]\n",
    "print('tmx'+ \" \"+str(out))\n",
    "data['tmx']=data['tmx'].drop(out)"
   ]
  },
  {
   "cell_type": "code",
   "execution_count": 15,
   "id": "7e402b7a",
   "metadata": {},
   "outputs": [
    {
     "name": "stdout",
     "output_type": "stream",
     "text": [
      "wet [23240 23255 23256]\n"
     ]
    }
   ],
   "source": [
    "z = np.abs(stats.zscore(data['wet']))\n",
    "out=np.where(z>3)[0]\n",
    "print('wet'+ \" \"+str(out))\n",
    "data['wet']=data['wet'].drop(out)"
   ]
  },
  {
   "cell_type": "code",
   "execution_count": 16,
   "id": "00e1d5bc",
   "metadata": {},
   "outputs": [
    {
     "name": "stdout",
     "output_type": "stream",
     "text": [
      "dominant_land_cover []\n"
     ]
    }
   ],
   "source": [
    "z = np.abs(stats.zscore(data['dominant_land_cover']))\n",
    "out=np.where(z>3)[0]\n",
    "print('dominant_land_cover'+ \" \"+str(out))\n",
    "data['dominant_land_cover']=data['dominant_land_cover'].drop(out)"
   ]
  },
  {
   "cell_type": "code",
   "execution_count": 17,
   "id": "202dc7da",
   "metadata": {},
   "outputs": [
    {
     "name": "stdout",
     "output_type": "stream",
     "text": [
      "<class 'pandas.core.frame.DataFrame'>\n",
      "Int64Index: 23726 entries, 0 to 24802\n",
      "Data columns (total 17 columns):\n",
      " #   Column               Non-Null Count  Dtype  \n",
      "---  ------               --------------  -----  \n",
      " 0   x                    23726 non-null  float64\n",
      " 1   y                    23726 non-null  float64\n",
      " 2   cld                  23725 non-null  float64\n",
      " 3   dtr                  23640 non-null  float64\n",
      " 4   frs                  23726 non-null  float64\n",
      " 5   pet                  23726 non-null  float64\n",
      " 6   pre                  23726 non-null  float64\n",
      " 7   tmn                  23726 non-null  float64\n",
      " 8   tmp                  23726 non-null  float64\n",
      " 9   tmx                  23726 non-null  float64\n",
      " 10  vap                  23726 non-null  float64\n",
      " 11  wet                  23723 non-null  float64\n",
      " 12  elevation            23726 non-null  int64  \n",
      " 13  dominant_land_cover  23726 non-null  int64  \n",
      " 14  X5_Ct_2010_Da        23726 non-null  float64\n",
      " 15  X5_Bf_2010_Da        23726 non-null  float64\n",
      " 16  lumpy                23726 non-null  int64  \n",
      "dtypes: float64(14), int64(3)\n",
      "memory usage: 3.8 MB\n"
     ]
    }
   ],
   "source": [
    "data.info()"
   ]
  },
  {
   "cell_type": "code",
   "execution_count": 18,
   "id": "155b8c9c",
   "metadata": {},
   "outputs": [
    {
     "data": {
      "text/plain": [
       "x                       0\n",
       "y                       0\n",
       "cld                     1\n",
       "dtr                    86\n",
       "frs                     0\n",
       "pet                     0\n",
       "pre                     0\n",
       "tmn                     0\n",
       "tmp                     0\n",
       "tmx                     0\n",
       "vap                     0\n",
       "wet                     3\n",
       "elevation               0\n",
       "dominant_land_cover     0\n",
       "X5_Ct_2010_Da           0\n",
       "X5_Bf_2010_Da           0\n",
       "lumpy                   0\n",
       "dtype: int64"
      ]
     },
     "execution_count": 18,
     "metadata": {},
     "output_type": "execute_result"
    }
   ],
   "source": [
    "data.isnull().sum()"
   ]
  },
  {
   "cell_type": "code",
   "execution_count": 19,
   "id": "6a28b520",
   "metadata": {},
   "outputs": [
    {
     "data": {
      "text/plain": [
       "x                      0\n",
       "y                      0\n",
       "cld                    0\n",
       "dtr                    0\n",
       "frs                    0\n",
       "pet                    0\n",
       "pre                    0\n",
       "tmn                    0\n",
       "tmp                    0\n",
       "tmx                    0\n",
       "vap                    0\n",
       "wet                    0\n",
       "elevation              0\n",
       "dominant_land_cover    0\n",
       "X5_Ct_2010_Da          0\n",
       "X5_Bf_2010_Da          0\n",
       "lumpy                  0\n",
       "dtype: int64"
      ]
     },
     "execution_count": 19,
     "metadata": {},
     "output_type": "execute_result"
    }
   ],
   "source": [
    "data=data.fillna(method='bfill')\n",
    "data.isnull().sum()"
   ]
  },
  {
   "cell_type": "code",
   "execution_count": 20,
   "id": "0cea9b95",
   "metadata": {},
   "outputs": [
    {
     "data": {
      "text/html": [
       "<div>\n",
       "<style scoped>\n",
       "    .dataframe tbody tr th:only-of-type {\n",
       "        vertical-align: middle;\n",
       "    }\n",
       "\n",
       "    .dataframe tbody tr th {\n",
       "        vertical-align: top;\n",
       "    }\n",
       "\n",
       "    .dataframe thead th {\n",
       "        text-align: right;\n",
       "    }\n",
       "</style>\n",
       "<table border=\"1\" class=\"dataframe\">\n",
       "  <thead>\n",
       "    <tr style=\"text-align: right;\">\n",
       "      <th></th>\n",
       "      <th>x</th>\n",
       "      <th>y</th>\n",
       "      <th>cld</th>\n",
       "      <th>dtr</th>\n",
       "      <th>frs</th>\n",
       "      <th>pet</th>\n",
       "      <th>pre</th>\n",
       "      <th>tmn</th>\n",
       "      <th>tmp</th>\n",
       "      <th>tmx</th>\n",
       "      <th>vap</th>\n",
       "      <th>wet</th>\n",
       "      <th>elevation</th>\n",
       "      <th>dominant_land_cover</th>\n",
       "      <th>X5_Ct_2010_Da</th>\n",
       "      <th>X5_Bf_2010_Da</th>\n",
       "      <th>lumpy</th>\n",
       "    </tr>\n",
       "  </thead>\n",
       "  <tbody>\n",
       "    <tr>\n",
       "      <th>0</th>\n",
       "      <td>0.751407</td>\n",
       "      <td>0.463232</td>\n",
       "      <td>0.421479</td>\n",
       "      <td>0.580645</td>\n",
       "      <td>0.000000</td>\n",
       "      <td>0.306667</td>\n",
       "      <td>0.004972</td>\n",
       "      <td>0.852632</td>\n",
       "      <td>0.877285</td>\n",
       "      <td>0.864764</td>\n",
       "      <td>0.548951</td>\n",
       "      <td>0.000000</td>\n",
       "      <td>0.442623</td>\n",
       "      <td>0.181818</td>\n",
       "      <td>0.167102</td>\n",
       "      <td>0.065162</td>\n",
       "      <td>1.0</td>\n",
       "    </tr>\n",
       "    <tr>\n",
       "      <th>1</th>\n",
       "      <td>0.744381</td>\n",
       "      <td>0.468206</td>\n",
       "      <td>0.410334</td>\n",
       "      <td>0.607527</td>\n",
       "      <td>0.000000</td>\n",
       "      <td>0.320000</td>\n",
       "      <td>0.000000</td>\n",
       "      <td>0.859211</td>\n",
       "      <td>0.886423</td>\n",
       "      <td>0.877171</td>\n",
       "      <td>0.569930</td>\n",
       "      <td>0.000000</td>\n",
       "      <td>0.431694</td>\n",
       "      <td>0.181818</td>\n",
       "      <td>0.149733</td>\n",
       "      <td>0.011849</td>\n",
       "      <td>1.0</td>\n",
       "    </tr>\n",
       "    <tr>\n",
       "      <th>2</th>\n",
       "      <td>0.737218</td>\n",
       "      <td>0.473848</td>\n",
       "      <td>0.276596</td>\n",
       "      <td>0.623656</td>\n",
       "      <td>0.002581</td>\n",
       "      <td>0.306667</td>\n",
       "      <td>0.001755</td>\n",
       "      <td>0.809211</td>\n",
       "      <td>0.839426</td>\n",
       "      <td>0.833747</td>\n",
       "      <td>0.454545</td>\n",
       "      <td>0.031695</td>\n",
       "      <td>0.502732</td>\n",
       "      <td>0.181818</td>\n",
       "      <td>0.036075</td>\n",
       "      <td>0.025185</td>\n",
       "      <td>1.0</td>\n",
       "    </tr>\n",
       "    <tr>\n",
       "      <th>3</th>\n",
       "      <td>0.726883</td>\n",
       "      <td>0.657305</td>\n",
       "      <td>0.458967</td>\n",
       "      <td>0.580645</td>\n",
       "      <td>1.000000</td>\n",
       "      <td>0.053333</td>\n",
       "      <td>0.025739</td>\n",
       "      <td>0.389474</td>\n",
       "      <td>0.417755</td>\n",
       "      <td>0.428040</td>\n",
       "      <td>0.031469</td>\n",
       "      <td>0.150065</td>\n",
       "      <td>0.612022</td>\n",
       "      <td>0.181818</td>\n",
       "      <td>0.004545</td>\n",
       "      <td>0.000000</td>\n",
       "      <td>1.0</td>\n",
       "    </tr>\n",
       "    <tr>\n",
       "      <th>4</th>\n",
       "      <td>0.725761</td>\n",
       "      <td>0.656878</td>\n",
       "      <td>0.393110</td>\n",
       "      <td>0.602151</td>\n",
       "      <td>1.000000</td>\n",
       "      <td>0.053333</td>\n",
       "      <td>0.030711</td>\n",
       "      <td>0.417105</td>\n",
       "      <td>0.447781</td>\n",
       "      <td>0.459057</td>\n",
       "      <td>0.041958</td>\n",
       "      <td>0.054657</td>\n",
       "      <td>0.650273</td>\n",
       "      <td>0.272727</td>\n",
       "      <td>0.001615</td>\n",
       "      <td>0.000000</td>\n",
       "      <td>1.0</td>\n",
       "    </tr>\n",
       "  </tbody>\n",
       "</table>\n",
       "</div>"
      ],
      "text/plain": [
       "          x         y       cld       dtr       frs       pet       pre  \\\n",
       "0  0.751407  0.463232  0.421479  0.580645  0.000000  0.306667  0.004972   \n",
       "1  0.744381  0.468206  0.410334  0.607527  0.000000  0.320000  0.000000   \n",
       "2  0.737218  0.473848  0.276596  0.623656  0.002581  0.306667  0.001755   \n",
       "3  0.726883  0.657305  0.458967  0.580645  1.000000  0.053333  0.025739   \n",
       "4  0.725761  0.656878  0.393110  0.602151  1.000000  0.053333  0.030711   \n",
       "\n",
       "        tmn       tmp       tmx       vap       wet  elevation  \\\n",
       "0  0.852632  0.877285  0.864764  0.548951  0.000000   0.442623   \n",
       "1  0.859211  0.886423  0.877171  0.569930  0.000000   0.431694   \n",
       "2  0.809211  0.839426  0.833747  0.454545  0.031695   0.502732   \n",
       "3  0.389474  0.417755  0.428040  0.031469  0.150065   0.612022   \n",
       "4  0.417105  0.447781  0.459057  0.041958  0.054657   0.650273   \n",
       "\n",
       "   dominant_land_cover  X5_Ct_2010_Da  X5_Bf_2010_Da  lumpy  \n",
       "0             0.181818       0.167102       0.065162    1.0  \n",
       "1             0.181818       0.149733       0.011849    1.0  \n",
       "2             0.181818       0.036075       0.025185    1.0  \n",
       "3             0.181818       0.004545       0.000000    1.0  \n",
       "4             0.272727       0.001615       0.000000    1.0  "
      ]
     },
     "execution_count": 20,
     "metadata": {},
     "output_type": "execute_result"
    }
   ],
   "source": [
    "for column in data.columns:\n",
    "    data[column] = (data[column] - data[column].min()) / (data[column].max() - data[column].min()) \n",
    "data.head()"
   ]
  },
  {
   "cell_type": "code",
   "execution_count": 21,
   "id": "604a9986",
   "metadata": {},
   "outputs": [
    {
     "data": {
      "text/plain": [
       "0        1.0\n",
       "1        1.0\n",
       "2        1.0\n",
       "3        1.0\n",
       "4        1.0\n",
       "        ... \n",
       "24798    0.0\n",
       "24799    0.0\n",
       "24800    0.0\n",
       "24801    0.0\n",
       "24802    0.0\n",
       "Name: lumpy, Length: 23726, dtype: float64"
      ]
     },
     "execution_count": 21,
     "metadata": {},
     "output_type": "execute_result"
    }
   ],
   "source": [
    "x = data.iloc[:,:-1]\n",
    "y = data.iloc[: ,-1]\n",
    "y"
   ]
  },
  {
   "cell_type": "code",
   "execution_count": 22,
   "id": "39432d4f",
   "metadata": {},
   "outputs": [
    {
     "name": "stdout",
     "output_type": "stream",
     "text": [
      "(21353, 16)\n",
      "(21353,)\n",
      "(2373, 16)\n",
      "(2373,)\n"
     ]
    }
   ],
   "source": [
    "from sklearn.model_selection import train_test_split\n",
    "x_train,x_test,y_train,y_test=train_test_split(x,y,test_size=0.1,stratify=y)\n",
    "print(x_train.shape)\n",
    "print(y_train.shape)\n",
    "print(x_test.shape)\n",
    "print(y_test.shape)"
   ]
  },
  {
   "cell_type": "code",
   "execution_count": 23,
   "id": "bdb0e895",
   "metadata": {},
   "outputs": [
    {
     "data": {
      "text/html": [
       "<style>#sk-container-id-1 {color: black;background-color: white;}#sk-container-id-1 pre{padding: 0;}#sk-container-id-1 div.sk-toggleable {background-color: white;}#sk-container-id-1 label.sk-toggleable__label {cursor: pointer;display: block;width: 100%;margin-bottom: 0;padding: 0.3em;box-sizing: border-box;text-align: center;}#sk-container-id-1 label.sk-toggleable__label-arrow:before {content: \"▸\";float: left;margin-right: 0.25em;color: #696969;}#sk-container-id-1 label.sk-toggleable__label-arrow:hover:before {color: black;}#sk-container-id-1 div.sk-estimator:hover label.sk-toggleable__label-arrow:before {color: black;}#sk-container-id-1 div.sk-toggleable__content {max-height: 0;max-width: 0;overflow: hidden;text-align: left;background-color: #f0f8ff;}#sk-container-id-1 div.sk-toggleable__content pre {margin: 0.2em;color: black;border-radius: 0.25em;background-color: #f0f8ff;}#sk-container-id-1 input.sk-toggleable__control:checked~div.sk-toggleable__content {max-height: 200px;max-width: 100%;overflow: auto;}#sk-container-id-1 input.sk-toggleable__control:checked~label.sk-toggleable__label-arrow:before {content: \"▾\";}#sk-container-id-1 div.sk-estimator input.sk-toggleable__control:checked~label.sk-toggleable__label {background-color: #d4ebff;}#sk-container-id-1 div.sk-label input.sk-toggleable__control:checked~label.sk-toggleable__label {background-color: #d4ebff;}#sk-container-id-1 input.sk-hidden--visually {border: 0;clip: rect(1px 1px 1px 1px);clip: rect(1px, 1px, 1px, 1px);height: 1px;margin: -1px;overflow: hidden;padding: 0;position: absolute;width: 1px;}#sk-container-id-1 div.sk-estimator {font-family: monospace;background-color: #f0f8ff;border: 1px dotted black;border-radius: 0.25em;box-sizing: border-box;margin-bottom: 0.5em;}#sk-container-id-1 div.sk-estimator:hover {background-color: #d4ebff;}#sk-container-id-1 div.sk-parallel-item::after {content: \"\";width: 100%;border-bottom: 1px solid gray;flex-grow: 1;}#sk-container-id-1 div.sk-label:hover label.sk-toggleable__label {background-color: #d4ebff;}#sk-container-id-1 div.sk-serial::before {content: \"\";position: absolute;border-left: 1px solid gray;box-sizing: border-box;top: 0;bottom: 0;left: 50%;z-index: 0;}#sk-container-id-1 div.sk-serial {display: flex;flex-direction: column;align-items: center;background-color: white;padding-right: 0.2em;padding-left: 0.2em;position: relative;}#sk-container-id-1 div.sk-item {position: relative;z-index: 1;}#sk-container-id-1 div.sk-parallel {display: flex;align-items: stretch;justify-content: center;background-color: white;position: relative;}#sk-container-id-1 div.sk-item::before, #sk-container-id-1 div.sk-parallel-item::before {content: \"\";position: absolute;border-left: 1px solid gray;box-sizing: border-box;top: 0;bottom: 0;left: 50%;z-index: -1;}#sk-container-id-1 div.sk-parallel-item {display: flex;flex-direction: column;z-index: 1;position: relative;background-color: white;}#sk-container-id-1 div.sk-parallel-item:first-child::after {align-self: flex-end;width: 50%;}#sk-container-id-1 div.sk-parallel-item:last-child::after {align-self: flex-start;width: 50%;}#sk-container-id-1 div.sk-parallel-item:only-child::after {width: 0;}#sk-container-id-1 div.sk-dashed-wrapped {border: 1px dashed gray;margin: 0 0.4em 0.5em 0.4em;box-sizing: border-box;padding-bottom: 0.4em;background-color: white;}#sk-container-id-1 div.sk-label label {font-family: monospace;font-weight: bold;display: inline-block;line-height: 1.2em;}#sk-container-id-1 div.sk-label-container {text-align: center;}#sk-container-id-1 div.sk-container {/* jupyter's `normalize.less` sets `[hidden] { display: none; }` but bootstrap.min.css set `[hidden] { display: none !important; }` so we also need the `!important` here to be able to override the default hidden behavior on the sphinx rendered scikit-learn.org. See: https://github.com/scikit-learn/scikit-learn/issues/21755 */display: inline-block !important;position: relative;}#sk-container-id-1 div.sk-text-repr-fallback {display: none;}</style><div id=\"sk-container-id-1\" class=\"sk-top-container\"><div class=\"sk-text-repr-fallback\"><pre>SVC(gamma=8)</pre><b>In a Jupyter environment, please rerun this cell to show the HTML representation or trust the notebook. <br />On GitHub, the HTML representation is unable to render, please try loading this page with nbviewer.org.</b></div><div class=\"sk-container\" hidden><div class=\"sk-item\"><div class=\"sk-estimator sk-toggleable\"><input class=\"sk-toggleable__control sk-hidden--visually\" id=\"sk-estimator-id-1\" type=\"checkbox\" checked><label for=\"sk-estimator-id-1\" class=\"sk-toggleable__label sk-toggleable__label-arrow\">SVC</label><div class=\"sk-toggleable__content\"><pre>SVC(gamma=8)</pre></div></div></div></div></div>"
      ],
      "text/plain": [
       "SVC(gamma=8)"
      ]
     },
     "execution_count": 23,
     "metadata": {},
     "output_type": "execute_result"
    }
   ],
   "source": [
    "from sklearn.svm import SVC\n",
    "# Building a Support Vector Machine on train data\n",
    "svc_model = SVC(kernel='rbf',gamma=8)\n",
    "svc_model.fit(x_train, y_train)"
   ]
  },
  {
   "cell_type": "code",
   "execution_count": 24,
   "id": "e5be1986",
   "metadata": {},
   "outputs": [
    {
     "name": "stdout",
     "output_type": "stream",
     "text": [
      "Training confusion matrix\n",
      "[[19329   258]\n",
      " [  456  1310]]\n",
      "validation confusion matrix\n",
      "[[2152   25]\n",
      " [  51  145]]\n",
      "training accuracy = 96.65620755865686\n",
      "testing accuracy = 96.79730299199326\n"
     ]
    }
   ],
   "source": [
    "from sklearn.metrics import accuracy_score, confusion_matrix\n",
    "predictions= svc_model .predict(x_train)\n",
    "percentage=svc_model.score(x_train,y_train)\n",
    "res=confusion_matrix(y_train,predictions)\n",
    "print(\"Training confusion matrix\")\n",
    "print(res)\n",
    "predictions= svc_model .predict(x_test)\n",
    "percentage=svc_model.score(x_test,y_test)\n",
    "res=confusion_matrix(y_test,predictions)\n",
    "print(\"validation confusion matrix\")\n",
    "print(res)\n",
    "# check the accuracy on the training set\n",
    "print('training accuracy = '+str(svc_model.score(x_train, y_train)*100))\n",
    "print('testing accuracy = '+str(svc_model.score(x_test, y_test)*100))"
   ]
  },
  {
   "cell_type": "code",
   "execution_count": 25,
   "id": "10ab667a",
   "metadata": {},
   "outputs": [],
   "source": [
    "data['lumpy'].value_counts()\n",
    "df_class_1=data[data['lumpy']==1]\n",
    "df_class_0=data[data['lumpy']==0]"
   ]
  },
  {
   "cell_type": "code",
   "execution_count": 26,
   "id": "7895c0a4",
   "metadata": {},
   "outputs": [],
   "source": [
    "df_class_1_over = df_class_1.sample(21764, replace=True)\n",
    "df_test_over = pd.concat([df_class_0, df_class_1_over], axis=0)"
   ]
  },
  {
   "cell_type": "code",
   "execution_count": 27,
   "id": "4faceae0",
   "metadata": {},
   "outputs": [
    {
     "name": "stdout",
     "output_type": "stream",
     "text": [
      "<class 'pandas.core.frame.DataFrame'>\n",
      "Int64Index: 43528 entries, 3039 to 2545\n",
      "Data columns (total 17 columns):\n",
      " #   Column               Non-Null Count  Dtype  \n",
      "---  ------               --------------  -----  \n",
      " 0   x                    43528 non-null  float64\n",
      " 1   y                    43528 non-null  float64\n",
      " 2   cld                  43528 non-null  float64\n",
      " 3   dtr                  43528 non-null  float64\n",
      " 4   frs                  43528 non-null  float64\n",
      " 5   pet                  43528 non-null  float64\n",
      " 6   pre                  43528 non-null  float64\n",
      " 7   tmn                  43528 non-null  float64\n",
      " 8   tmp                  43528 non-null  float64\n",
      " 9   tmx                  43528 non-null  float64\n",
      " 10  vap                  43528 non-null  float64\n",
      " 11  wet                  43528 non-null  float64\n",
      " 12  elevation            43528 non-null  float64\n",
      " 13  dominant_land_cover  43528 non-null  float64\n",
      " 14  X5_Ct_2010_Da        43528 non-null  float64\n",
      " 15  X5_Bf_2010_Da        43528 non-null  float64\n",
      " 16  lumpy                43528 non-null  float64\n",
      "dtypes: float64(17)\n",
      "memory usage: 6.0 MB\n"
     ]
    }
   ],
   "source": [
    "df_test_over.info()"
   ]
  },
  {
   "cell_type": "code",
   "execution_count": 28,
   "id": "4cd0fd27",
   "metadata": {},
   "outputs": [],
   "source": [
    "y1=df_test_over['lumpy']\n",
    "df_test_over=df_test_over.drop(['lumpy'],axis=1)\n",
    "X1=df_test_over"
   ]
  },
  {
   "cell_type": "code",
   "execution_count": 29,
   "id": "fe96f238",
   "metadata": {},
   "outputs": [
    {
     "name": "stdout",
     "output_type": "stream",
     "text": [
      "training data shape is :(34822, 16).\n",
      "training label shape is :(34822,).\n",
      "testing data shape is :(8706, 16).\n",
      "testing label shape is :(8706,).\n"
     ]
    }
   ],
   "source": [
    "from sklearn.model_selection import train_test_split\n",
    "\n",
    "X1_train,X1_test ,y1_train, y1_test = train_test_split(X1,y1,\n",
    "                                                   test_size=0.2,\n",
    "                                                   random_state=0,\n",
    "                                                  shuffle = True,\n",
    "                                                  stratify = y1)\n",
    "\n",
    "print('training data shape is :{}.'.format(X1_train.shape))\n",
    "print('training label shape is :{}.'.format(y1_train.shape))\n",
    "print('testing data shape is :{}.'.format(X1_test.shape))\n",
    "print('testing label shape is :{}.'.format(y1_test.shape))"
   ]
  },
  {
   "cell_type": "code",
   "execution_count": 30,
   "id": "63cbe4a6",
   "metadata": {},
   "outputs": [
    {
     "data": {
      "text/html": [
       "<style>#sk-container-id-2 {color: black;background-color: white;}#sk-container-id-2 pre{padding: 0;}#sk-container-id-2 div.sk-toggleable {background-color: white;}#sk-container-id-2 label.sk-toggleable__label {cursor: pointer;display: block;width: 100%;margin-bottom: 0;padding: 0.3em;box-sizing: border-box;text-align: center;}#sk-container-id-2 label.sk-toggleable__label-arrow:before {content: \"▸\";float: left;margin-right: 0.25em;color: #696969;}#sk-container-id-2 label.sk-toggleable__label-arrow:hover:before {color: black;}#sk-container-id-2 div.sk-estimator:hover label.sk-toggleable__label-arrow:before {color: black;}#sk-container-id-2 div.sk-toggleable__content {max-height: 0;max-width: 0;overflow: hidden;text-align: left;background-color: #f0f8ff;}#sk-container-id-2 div.sk-toggleable__content pre {margin: 0.2em;color: black;border-radius: 0.25em;background-color: #f0f8ff;}#sk-container-id-2 input.sk-toggleable__control:checked~div.sk-toggleable__content {max-height: 200px;max-width: 100%;overflow: auto;}#sk-container-id-2 input.sk-toggleable__control:checked~label.sk-toggleable__label-arrow:before {content: \"▾\";}#sk-container-id-2 div.sk-estimator input.sk-toggleable__control:checked~label.sk-toggleable__label {background-color: #d4ebff;}#sk-container-id-2 div.sk-label input.sk-toggleable__control:checked~label.sk-toggleable__label {background-color: #d4ebff;}#sk-container-id-2 input.sk-hidden--visually {border: 0;clip: rect(1px 1px 1px 1px);clip: rect(1px, 1px, 1px, 1px);height: 1px;margin: -1px;overflow: hidden;padding: 0;position: absolute;width: 1px;}#sk-container-id-2 div.sk-estimator {font-family: monospace;background-color: #f0f8ff;border: 1px dotted black;border-radius: 0.25em;box-sizing: border-box;margin-bottom: 0.5em;}#sk-container-id-2 div.sk-estimator:hover {background-color: #d4ebff;}#sk-container-id-2 div.sk-parallel-item::after {content: \"\";width: 100%;border-bottom: 1px solid gray;flex-grow: 1;}#sk-container-id-2 div.sk-label:hover label.sk-toggleable__label {background-color: #d4ebff;}#sk-container-id-2 div.sk-serial::before {content: \"\";position: absolute;border-left: 1px solid gray;box-sizing: border-box;top: 0;bottom: 0;left: 50%;z-index: 0;}#sk-container-id-2 div.sk-serial {display: flex;flex-direction: column;align-items: center;background-color: white;padding-right: 0.2em;padding-left: 0.2em;position: relative;}#sk-container-id-2 div.sk-item {position: relative;z-index: 1;}#sk-container-id-2 div.sk-parallel {display: flex;align-items: stretch;justify-content: center;background-color: white;position: relative;}#sk-container-id-2 div.sk-item::before, #sk-container-id-2 div.sk-parallel-item::before {content: \"\";position: absolute;border-left: 1px solid gray;box-sizing: border-box;top: 0;bottom: 0;left: 50%;z-index: -1;}#sk-container-id-2 div.sk-parallel-item {display: flex;flex-direction: column;z-index: 1;position: relative;background-color: white;}#sk-container-id-2 div.sk-parallel-item:first-child::after {align-self: flex-end;width: 50%;}#sk-container-id-2 div.sk-parallel-item:last-child::after {align-self: flex-start;width: 50%;}#sk-container-id-2 div.sk-parallel-item:only-child::after {width: 0;}#sk-container-id-2 div.sk-dashed-wrapped {border: 1px dashed gray;margin: 0 0.4em 0.5em 0.4em;box-sizing: border-box;padding-bottom: 0.4em;background-color: white;}#sk-container-id-2 div.sk-label label {font-family: monospace;font-weight: bold;display: inline-block;line-height: 1.2em;}#sk-container-id-2 div.sk-label-container {text-align: center;}#sk-container-id-2 div.sk-container {/* jupyter's `normalize.less` sets `[hidden] { display: none; }` but bootstrap.min.css set `[hidden] { display: none !important; }` so we also need the `!important` here to be able to override the default hidden behavior on the sphinx rendered scikit-learn.org. See: https://github.com/scikit-learn/scikit-learn/issues/21755 */display: inline-block !important;position: relative;}#sk-container-id-2 div.sk-text-repr-fallback {display: none;}</style><div id=\"sk-container-id-2\" class=\"sk-top-container\"><div class=\"sk-text-repr-fallback\"><pre>SVC(gamma=8)</pre><b>In a Jupyter environment, please rerun this cell to show the HTML representation or trust the notebook. <br />On GitHub, the HTML representation is unable to render, please try loading this page with nbviewer.org.</b></div><div class=\"sk-container\" hidden><div class=\"sk-item\"><div class=\"sk-estimator sk-toggleable\"><input class=\"sk-toggleable__control sk-hidden--visually\" id=\"sk-estimator-id-2\" type=\"checkbox\" checked><label for=\"sk-estimator-id-2\" class=\"sk-toggleable__label sk-toggleable__label-arrow\">SVC</label><div class=\"sk-toggleable__content\"><pre>SVC(gamma=8)</pre></div></div></div></div></div>"
      ],
      "text/plain": [
       "SVC(gamma=8)"
      ]
     },
     "execution_count": 30,
     "metadata": {},
     "output_type": "execute_result"
    }
   ],
   "source": [
    "from sklearn.svm import SVC\n",
    "svc_model = SVC(kernel='rbf',gamma=8)\n",
    "svc_model.fit(X1_train, y1_train)"
   ]
  },
  {
   "cell_type": "code",
   "execution_count": 31,
   "id": "5ee57773",
   "metadata": {},
   "outputs": [
    {
     "name": "stdout",
     "output_type": "stream",
     "text": [
      "Training confusion matrix\n",
      "[[16141  1270]\n",
      " [  513 16898]]\n",
      "validation confusion matrix\n",
      "[[4036  317]\n",
      " [ 150 4203]]\n",
      "training accuracy = 94.87967376945609\n",
      "testing accuracy = 94.63588329887433\n"
     ]
    }
   ],
   "source": [
    "from sklearn.metrics import accuracy_score, confusion_matrix\n",
    "predictions= svc_model .predict(X1_train)\n",
    "percentage=svc_model.score(X1_train,y1_train)\n",
    "res=confusion_matrix(y1_train,predictions)\n",
    "print(\"Training confusion matrix\")\n",
    "print(res)\n",
    "predictions= svc_model .predict(X1_test)\n",
    "percentage=svc_model.score(X1_test,y1_test)\n",
    "res=confusion_matrix(y1_test,predictions)\n",
    "print(\"validation confusion matrix\")\n",
    "print(res)\n",
    "# check the accuracy on the training set\n",
    "print('training accuracy = '+str(svc_model.score(X1_train, y1_train)*100))\n",
    "print('testing accuracy = '+str(svc_model.score(X1_test, y1_test)*100))"
   ]
  },
  {
   "cell_type": "code",
   "execution_count": null,
   "id": "b497fecb",
   "metadata": {},
   "outputs": [],
   "source": [
    "from sklearn.svm import SVC\n",
    "svc_model = SVC(kernel='poly',gamma=8)\n",
    "svc_model.fit(X1_train, y1_train)"
   ]
  }
 ],
 "metadata": {
  "kernelspec": {
   "display_name": "Python 3",
   "language": "python",
   "name": "python3"
  },
  "language_info": {
   "codemirror_mode": {
    "name": "ipython",
    "version": 3
   },
   "file_extension": ".py",
   "mimetype": "text/x-python",
   "name": "python",
   "nbconvert_exporter": "python",
   "pygments_lexer": "ipython3",
   "version": "3.8.8"
  }
 },
 "nbformat": 4,
 "nbformat_minor": 5
}
